{
 "cells": [
  {
   "cell_type": "code",
   "execution_count": 3,
   "metadata": {},
   "outputs": [],
   "source": [
    "import pandas as pd\n",
    "import json"
   ]
  },
  {
   "cell_type": "code",
   "execution_count": 5,
   "metadata": {},
   "outputs": [],
   "source": [
    "data = json.load(open('rolland_.json'))"
   ]
  },
  {
   "cell_type": "code",
   "execution_count": 12,
   "metadata": {},
   "outputs": [],
   "source": [
    "players = [n['id'] for n in data['nodes']]"
   ]
  },
  {
   "cell_type": "code",
   "execution_count": null,
   "metadata": {},
   "outputs": [],
   "source": []
  },
  {
   "cell_type": "code",
   "execution_count": null,
   "metadata": {},
   "outputs": [],
   "source": []
  },
  {
   "cell_type": "code",
   "execution_count": 16,
   "metadata": {
    "scrolled": true
   },
   "outputs": [
    {
     "data": {
      "text/plain": [
       "['LECONTE',\n",
       " 'FIBAK',\n",
       " 'MONFILS',\n",
       " 'HLASEK',\n",
       " 'NORMAN',\n",
       " 'HRBATY',\n",
       " 'DEWULF',\n",
       " 'PAVEL',\n",
       " 'CHANG',\n",
       " 'RAFTER',\n",
       " 'CARRENO BUSTA',\n",
       " 'FOGNINI',\n",
       " 'KULTI',\n",
       " 'MANCINI',\n",
       " 'LENDL',\n",
       " 'CONNORS',\n",
       " 'HENMAN',\n",
       " 'ARIAS',\n",
       " 'NOVACEK',\n",
       " 'GILDEMEISTER',\n",
       " 'DJOKOVIC',\n",
       " 'CANAS',\n",
       " 'AGENOR',\n",
       " 'GOFFIN',\n",
       " 'CORIA',\n",
       " 'MANTILLA',\n",
       " 'FURLAN',\n",
       " 'FERRERO',\n",
       " 'MELZER',\n",
       " 'HAAS',\n",
       " 'CLERC',\n",
       " 'PEREZ-RO...',\n",
       " 'KUERTEN',\n",
       " 'HANESCU',\n",
       " 'ARAZI',\n",
       " 'GROSJEAN',\n",
       " 'SAMPRAS',\n",
       " 'KARBACHER',\n",
       " 'PECCI',\n",
       " 'MOYA',\n",
       " 'THIEM',\n",
       " 'MUSTER',\n",
       " 'GOMEZ',\n",
       " 'ROBREDO',\n",
       " 'JAITE',\n",
       " 'VOINEA',\n",
       " 'SVENSSON',\n",
       " 'McENROE',\n",
       " 'WAWRINKA',\n",
       " 'CHAMPION',\n",
       " 'MELIGENI',\n",
       " 'CHERKASOV',\n",
       " 'FILIPPINI',\n",
       " 'BERDYCH',\n",
       " 'GULBIS',\n",
       " 'GONZALEZ',\n",
       " 'BENNETEAU',\n",
       " 'ALMAGRO',\n",
       " 'COURIER',\n",
       " 'GAUDIO',\n",
       " 'VERKERK',\n",
       " 'SOLOMON',\n",
       " 'KAFELNIKOV',\n",
       " 'SQUILLARI',\n",
       " 'ANDREEV',\n",
       " 'FEDERER',\n",
       " 'NOAH',\n",
       " 'AGASSI',\n",
       " 'LARSSON',\n",
       " 'PERNFORS',\n",
       " 'RIOS',\n",
       " 'McNAMARA',\n",
       " 'RAONIC',\n",
       " 'GASQUET',\n",
       " 'ANCIC',\n",
       " 'EDBERG',\n",
       " 'SANCHEZ',\n",
       " 'TAROCZY',\n",
       " 'BORG',\n",
       " 'BERGER',\n",
       " 'KRAJICEK',\n",
       " 'MURRAY',\n",
       " 'ROSSET',\n",
       " 'NISHIKORI',\n",
       " 'GERULAITIS',\n",
       " 'ROGER-VA...',\n",
       " 'KORDA',\n",
       " 'DREEKMANN',\n",
       " 'SAFIN',\n",
       " 'MEDVEDEV',\n",
       " 'CHESNOKOV',\n",
       " 'COSTA',\n",
       " 'BARAZZUTTI',\n",
       " 'IVANISEVIC',\n",
       " 'HIGUERAS',\n",
       " 'LJUBICIC',\n",
       " 'BRUGUERA',\n",
       " 'TSONGA',\n",
       " 'NYSTROM',\n",
       " 'BLANCO',\n",
       " 'WILANDER',\n",
       " 'STICH',\n",
       " 'DAVIN',\n",
       " 'VILAS',\n",
       " 'KRIEK',\n",
       " 'NALBANDIAN',\n",
       " 'FERRER',\n",
       " 'HEWITT',\n",
       " 'CHELA',\n",
       " 'BECKER',\n",
       " 'DAVYDENKO',\n",
       " 'RAMOS',\n",
       " 'BERASATEGUI',\n",
       " 'DEL POTRO',\n",
       " 'CILIC',\n",
       " 'PUERTA',\n",
       " 'PIOLINE',\n",
       " 'YOUZHNY',\n",
       " 'SODERLING',\n",
       " 'CORRETJA',\n",
       " 'MECIR',\n",
       " 'SUNDSTROM',\n",
       " 'NADAL']"
      ]
     },
     "execution_count": 16,
     "metadata": {},
     "output_type": "execute_result"
    }
   ],
   "source": [
    "players"
   ]
  },
  {
   "cell_type": "code",
   "execution_count": null,
   "metadata": {},
   "outputs": [],
   "source": []
  },
  {
   "cell_type": "code",
   "execution_count": null,
   "metadata": {},
   "outputs": [],
   "source": []
  },
  {
   "cell_type": "code",
   "execution_count": null,
   "metadata": {},
   "outputs": [],
   "source": []
  },
  {
   "cell_type": "code",
   "execution_count": null,
   "metadata": {},
   "outputs": [],
   "source": []
  }
 ],
 "metadata": {
  "kernelspec": {
   "display_name": "Python 3",
   "language": "python",
   "name": "python3"
  },
  "language_info": {
   "codemirror_mode": {
    "name": "ipython",
    "version": 3
   },
   "file_extension": ".py",
   "mimetype": "text/x-python",
   "name": "python",
   "nbconvert_exporter": "python",
   "pygments_lexer": "ipython3",
   "version": "3.7.2"
  }
 },
 "nbformat": 4,
 "nbformat_minor": 2
}
